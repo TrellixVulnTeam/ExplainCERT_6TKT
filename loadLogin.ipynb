{
 "cells": [
  {
   "cell_type": "code",
   "execution_count": 5,
   "metadata": {
    "collapsed": true,
    "pycharm": {
     "name": "#%%from pandas import read_csv\n"
    }
   },
   "outputs": [
    {
     "name": "stdout",
     "output_type": "stream",
     "text": [
      "(3530286, 5)\n",
      "                          id                 date     user       pc  activity\n",
      "0                         id                 date     user       pc  activity\n",
      "1   {F3X8-Y2GT43DR-4906OHBL}  01/02/2010 02:19:18  DNS1758  PC-0414     Logon\n",
      "2   {B4Q0-D0GM24KN-3704MAII}  01/02/2010 02:31:12  DNS1758  PC-0414    Logoff\n",
      "3   {T7J1-D4HK34KV-5476TCIJ}  01/02/2010 02:34:02  DNS1758  PC-5313     Logon\n",
      "4   {S4Y6-D8MQ05SA-0759HLIS}  01/02/2010 02:53:30  DNS1758  PC-5313    Logoff\n",
      "5   {F3P0-E7FH78CV-4874FRGZ}  01/02/2010 04:07:31  DNS1758  PC-0012     Logon\n",
      "6   {M6C2-B1LK96JR-3409QEXP}  01/02/2010 04:10:34  DNS1758  PC-0012    Logoff\n",
      "7   {J3S1-G0CN29NY-6126GYJV}  01/02/2010 06:16:00  ANC1950  PC-4921     Logon\n",
      "8   {M1V4-S1FK13BQ-2952XBLU}  01/02/2010 06:25:00  SAB1954  PC-5091     Logon\n",
      "9   {S2E1-Y8HO73WG-6712ZKOG}  01/02/2010 06:28:00  LIM1718  PC-7539     Logon\n",
      "10  {X3U5-I6AY76TL-5507LCII}  01/02/2010 06:32:00  LSN1672  PC-9021     Logon\n",
      "11  {T9C3-A0RO51RW-1508BHBK}  01/02/2010 06:33:00  JEV3132  PC-7700     Logon\n",
      "12  {G1T0-B0ZO16BY-6931CHHG}  01/02/2010 06:34:00  HDB1666  PC-6793     Logon\n",
      "13  {B4P2-H2CK33MA-9719SKBP}  01/02/2010 06:38:00  CBA1023  PC-1570     Logon\n",
      "14  {Y3T7-C4SA18FK-1176HKZW}  01/02/2010 06:45:00  LAF2213  PC-3090     Logon\n",
      "15  {G8L5-G8EA91ZE-0726XMMK}  01/02/2010 06:46:00  ROR3483  PC-4365     Logon\n",
      "16  {O3X3-I1WD37ZL-1969SYOE}  01/02/2010 06:49:00  RJH0219  PC-3959     Logon\n",
      "17  {P3A5-Z7PL54GE-3916OBKP}  01/02/2010 06:49:00  SDH2394  PC-5849     Logon\n",
      "18  {X0N8-W4HL70RL-7019WUIO}  01/02/2010 06:56:00  GNT0221  PC-6427     Logon\n",
      "19  {U9V5-N6EB40WN-7174ZDSS}  01/02/2010 06:56:00  JLC0216  PC-3253     Logon\n"
     ]
    }
   ],
   "source": [
    "from pandas import read_csv\n",
    "filename = 'E:/PhD/data/CERT/r6.2/logon.csv'\n",
    "names = ['id','date','user','pc','activity']\n",
    "data = read_csv(filename, names=names)\n",
    "print(data.shape)\n",
    "peek = data.head(20)\n",
    "print(peek)"
   ]
  }
 ],
 "metadata": {
  "kernelspec": {
   "display_name": "Python 3",
   "language": "python",
   "name": "python3"
  },
  "language_info": {
   "codemirror_mode": {
    "name": "ipython",
    "version": 2
   },
   "file_extension": ".py",
   "mimetype": "text/x-python",
   "name": "python",
   "nbconvert_exporter": "python",
   "pygments_lexer": "ipython2",
   "version": "2.7.6"
  }
 },
 "nbformat": 4,
 "nbformat_minor": 0
}