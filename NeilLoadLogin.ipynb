{
 "cells": [
  {
   "cell_type": "code",
   "execution_count": 5,
   "metadata": {},
   "outputs": [
    {
     "name": "stdout",
     "output_type": "stream",
     "text": [
      "(3530285, 5)\n"
     ]
    }
   ],
   "source": [
    "from pandas import read_csv\n",
    "filename = 'E:/PhD/data/CERT/r6.2/logon.csv'\n",
    "names = ['id','date','user','pc','activity']\n",
    "data = read_csv(filename)\n",
    "print(data.shape)\n",
    "\n"
   ]
  },
  {
   "cell_type": "code",
   "execution_count": 21,
   "metadata": {},
   "outputs": [
    {
     "name": "stdout",
     "output_type": "stream",
     "text": [
      "                          id                date     user       pc activity\n",
      "0   {F3X8-Y2GT43DR-4906OHBL} 2010-01-02 02:19:18  DNS1758  PC-0414    Logon\n",
      "1   {B4Q0-D0GM24KN-3704MAII} 2010-01-02 02:31:12  DNS1758  PC-0414   Logoff\n",
      "2   {T7J1-D4HK34KV-5476TCIJ} 2010-01-02 02:34:02  DNS1758  PC-5313    Logon\n",
      "3   {S4Y6-D8MQ05SA-0759HLIS} 2010-01-02 02:53:30  DNS1758  PC-5313   Logoff\n",
      "4   {F3P0-E7FH78CV-4874FRGZ} 2010-01-02 04:07:31  DNS1758  PC-0012    Logon\n",
      "5   {M6C2-B1LK96JR-3409QEXP} 2010-01-02 04:10:34  DNS1758  PC-0012   Logoff\n",
      "6   {J3S1-G0CN29NY-6126GYJV} 2010-01-02 06:16:00  ANC1950  PC-4921    Logon\n",
      "7   {M1V4-S1FK13BQ-2952XBLU} 2010-01-02 06:25:00  SAB1954  PC-5091    Logon\n",
      "8   {S2E1-Y8HO73WG-6712ZKOG} 2010-01-02 06:28:00  LIM1718  PC-7539    Logon\n",
      "9   {X3U5-I6AY76TL-5507LCII} 2010-01-02 06:32:00  LSN1672  PC-9021    Logon\n",
      "10  {T9C3-A0RO51RW-1508BHBK} 2010-01-02 06:33:00  JEV3132  PC-7700    Logon\n",
      "11  {G1T0-B0ZO16BY-6931CHHG} 2010-01-02 06:34:00  HDB1666  PC-6793    Logon\n",
      "12  {B4P2-H2CK33MA-9719SKBP} 2010-01-02 06:38:00  CBA1023  PC-1570    Logon\n",
      "13  {Y3T7-C4SA18FK-1176HKZW} 2010-01-02 06:45:00  LAF2213  PC-3090    Logon\n",
      "14  {G8L5-G8EA91ZE-0726XMMK} 2010-01-02 06:46:00  ROR3483  PC-4365    Logon\n",
      "15  {O3X3-I1WD37ZL-1969SYOE} 2010-01-02 06:49:00  RJH0219  PC-3959    Logon\n",
      "16  {P3A5-Z7PL54GE-3916OBKP} 2010-01-02 06:49:00  SDH2394  PC-5849    Logon\n",
      "17  {X0N8-W4HL70RL-7019WUIO} 2010-01-02 06:56:00  GNT0221  PC-6427    Logon\n",
      "18  {U9V5-N6EB40WN-7174ZDSS} 2010-01-02 06:56:00  JLC0216  PC-3253    Logon\n",
      "19  {R9K8-Q2KF87KI-6337YIQQ} 2010-01-02 06:57:00  AMB3100  PC-9472    Logon\n"
     ]
    }
   ],
   "source": [
    "peek = data.head(20)\n",
    "print(peek)"
   ]
  },
  {
   "cell_type": "code",
   "execution_count": 16,
   "metadata": {},
   "outputs": [
    {
     "name": "stdout",
     "output_type": "stream",
     "text": [
      "id                  object\n",
      "date        datetime64[ns]\n",
      "user                object\n",
      "pc                  object\n",
      "activity            object\n",
      "dtype: object\n"
     ]
    }
   ],
   "source": [
    "types = data.dtypes\n",
    "print(types)\n"
   ]
  },
  {
   "cell_type": "code",
   "execution_count": 9,
   "metadata": {},
   "outputs": [
    {
     "name": "stdout",
     "output_type": "stream",
     "text": [
      "                              id                 date     user       pc activity\n",
      "count                    3530285              3530285  3530285  3530285  3530285\n",
      "unique                   3530285               955571     4000     4400        2\n",
      "top     {I4R7-K2KM23TV-7181DFNL}  01/07/2010 08:00:00  TAM3048  PC-6793    Logon\n",
      "freq                           1                  199     4151     1654  1948933\n"
     ]
    }
   ],
   "source": [
    "from pandas import set_option\n",
    "set_option('display.width', 100)\n",
    "set_option('precision', 3)\n",
    "description = data.describe()\n",
    "print(description)"
   ]
  },
  {
   "cell_type": "code",
   "execution_count": 11,
   "metadata": {},
   "outputs": [],
   "source": [
    "import pandas as pd"
   ]
  },
  {
   "cell_type": "code",
   "execution_count": 13,
   "metadata": {},
   "outputs": [
    {
     "data": {
      "text/plain": [
       "0     01/02/2010 02:19:18\n",
       "1     01/02/2010 02:31:12\n",
       "2     01/02/2010 02:34:02\n",
       "3     01/02/2010 02:53:30\n",
       "4     01/02/2010 04:07:31\n",
       "5     01/02/2010 04:10:34\n",
       "6     01/02/2010 06:16:00\n",
       "7     01/02/2010 06:25:00\n",
       "8     01/02/2010 06:28:00\n",
       "9     01/02/2010 06:32:00\n",
       "10    01/02/2010 06:33:00\n",
       "11    01/02/2010 06:34:00\n",
       "12    01/02/2010 06:38:00\n",
       "13    01/02/2010 06:45:00\n",
       "14    01/02/2010 06:46:00\n",
       "15    01/02/2010 06:49:00\n",
       "16    01/02/2010 06:49:00\n",
       "17    01/02/2010 06:56:00\n",
       "18    01/02/2010 06:56:00\n",
       "19    01/02/2010 06:57:00\n",
       "Name: date, dtype: object"
      ]
     },
     "execution_count": 13,
     "metadata": {},
     "output_type": "execute_result"
    }
   ],
   "source": [
    "data['date'].head(20)"
   ]
  },
  {
   "cell_type": "code",
   "execution_count": 15,
   "metadata": {},
   "outputs": [],
   "source": [
    "data['date'] = pd.to_datetime(data['date'])"
   ]
  },
  {
   "cell_type": "code",
   "execution_count": 17,
   "metadata": {},
   "outputs": [
    {
     "data": {
      "text/plain": [
       "0    2010-01-02 02:19:18\n",
       "1    2010-01-02 02:31:12\n",
       "2    2010-01-02 02:34:02\n",
       "3    2010-01-02 02:53:30\n",
       "4    2010-01-02 04:07:31\n",
       "5    2010-01-02 04:10:34\n",
       "6    2010-01-02 06:16:00\n",
       "7    2010-01-02 06:25:00\n",
       "8    2010-01-02 06:28:00\n",
       "9    2010-01-02 06:32:00\n",
       "10   2010-01-02 06:33:00\n",
       "11   2010-01-02 06:34:00\n",
       "12   2010-01-02 06:38:00\n",
       "13   2010-01-02 06:45:00\n",
       "14   2010-01-02 06:46:00\n",
       "15   2010-01-02 06:49:00\n",
       "16   2010-01-02 06:49:00\n",
       "17   2010-01-02 06:56:00\n",
       "18   2010-01-02 06:56:00\n",
       "19   2010-01-02 06:57:00\n",
       "Name: date, dtype: datetime64[ns]"
      ]
     },
     "execution_count": 17,
     "metadata": {},
     "output_type": "execute_result"
    }
   ],
   "source": [
    "data['date'].head(20)"
   ]
  },
  {
   "cell_type": "code",
   "execution_count": 19,
   "outputs": [
    {
     "data": {
      "text/plain": "<Figure size 432x288 with 1 Axes>",
      "image/png": "[encoded data removed]"
     },
     "metadata": {
      "needs_background": "light"
     },
     "output_type": "display_data"
    }
   ],
   "source": [
    "from matplotlib import pyplot\n",
    "data.hist()\n",
    "pyplot.show()\n"
   ],
   "metadata": {
    "collapsed": false,
    "pycharm": {
     "name": "#%%\n"
    }
   }
  },
  {
   "cell_type": "code",
   "execution_count": 20,
   "outputs": [
    {
     "ename": "UFuncTypeError",
     "evalue": "ufunc 'multiply' cannot use operands with types dtype('<M8[ns]') and dtype('float64')",
     "output_type": "error",
     "traceback": [
      "\u001B[1;31m---------------------------------------------------------------------------\u001B[0m",
      "\u001B[1;31mUFuncTypeError\u001B[0m                            Traceback (most recent call last)",
      "\u001B[1;32m<ipython-input-20-26786da4f180>\u001B[0m in \u001B[0;36m<module>\u001B[1;34m\u001B[0m\n\u001B[1;32m----> 1\u001B[1;33m \u001B[0mdata\u001B[0m\u001B[1;33m.\u001B[0m\u001B[0mplot\u001B[0m\u001B[1;33m(\u001B[0m\u001B[0mkind\u001B[0m\u001B[1;33m=\u001B[0m\u001B[1;34m'density'\u001B[0m\u001B[1;33m,\u001B[0m \u001B[0msubplots\u001B[0m\u001B[1;33m=\u001B[0m\u001B[1;32mTrue\u001B[0m\u001B[1;33m,\u001B[0m \u001B[0mlayout\u001B[0m\u001B[1;33m=\u001B[0m\u001B[1;33m(\u001B[0m\u001B[1;36m3\u001B[0m\u001B[1;33m,\u001B[0m\u001B[1;36m3\u001B[0m\u001B[1;33m)\u001B[0m\u001B[1;33m,\u001B[0m \u001B[0msharex\u001B[0m\u001B[1;33m=\u001B[0m\u001B[1;32mFalse\u001B[0m\u001B[1;33m)\u001B[0m\u001B[1;33m\u001B[0m\u001B[1;33m\u001B[0m\u001B[0m\n\u001B[0m\u001B[0;32m      2\u001B[0m \u001B[0mpyplot\u001B[0m\u001B[1;33m.\u001B[0m\u001B[0mshow\u001B[0m\u001B[1;33m(\u001B[0m\u001B[1;33m)\u001B[0m\u001B[1;33m\u001B[0m\u001B[1;33m\u001B[0m\u001B[0m\n\u001B[0;32m      3\u001B[0m \u001B[1;33m\u001B[0m\u001B[0m\n\u001B[0;32m      4\u001B[0m \u001B[1;33m\u001B[0m\u001B[0m\n",
      "\u001B[1;32me:\\phd\\code\\explaincert\\venv\\lib\\site-packages\\pandas\\plotting\\_core.py\u001B[0m in \u001B[0;36m__call__\u001B[1;34m(self, *args, **kwargs)\u001B[0m\n\u001B[0;32m    953\u001B[0m                     \u001B[0mdata\u001B[0m\u001B[1;33m.\u001B[0m\u001B[0mcolumns\u001B[0m \u001B[1;33m=\u001B[0m \u001B[0mlabel_name\u001B[0m\u001B[1;33m\u001B[0m\u001B[1;33m\u001B[0m\u001B[0m\n\u001B[0;32m    954\u001B[0m \u001B[1;33m\u001B[0m\u001B[0m\n\u001B[1;32m--> 955\u001B[1;33m         \u001B[1;32mreturn\u001B[0m \u001B[0mplot_backend\u001B[0m\u001B[1;33m.\u001B[0m\u001B[0mplot\u001B[0m\u001B[1;33m(\u001B[0m\u001B[0mdata\u001B[0m\u001B[1;33m,\u001B[0m \u001B[0mkind\u001B[0m\u001B[1;33m=\u001B[0m\u001B[0mkind\u001B[0m\u001B[1;33m,\u001B[0m \u001B[1;33m**\u001B[0m\u001B[0mkwargs\u001B[0m\u001B[1;33m)\u001B[0m\u001B[1;33m\u001B[0m\u001B[1;33m\u001B[0m\u001B[0m\n\u001B[0m\u001B[0;32m    956\u001B[0m \u001B[1;33m\u001B[0m\u001B[0m\n\u001B[0;32m    957\u001B[0m     \u001B[0m__call__\u001B[0m\u001B[1;33m.\u001B[0m\u001B[0m__doc__\u001B[0m \u001B[1;33m=\u001B[0m \u001B[0m__doc__\u001B[0m\u001B[1;33m\u001B[0m\u001B[1;33m\u001B[0m\u001B[0m\n",
      "\u001B[1;32me:\\phd\\code\\explaincert\\venv\\lib\\site-packages\\pandas\\plotting\\_matplotlib\\__init__.py\u001B[0m in \u001B[0;36mplot\u001B[1;34m(data, kind, **kwargs)\u001B[0m\n\u001B[0;32m     59\u001B[0m             \u001B[0mkwargs\u001B[0m\u001B[1;33m[\u001B[0m\u001B[1;34m\"ax\"\u001B[0m\u001B[1;33m]\u001B[0m \u001B[1;33m=\u001B[0m \u001B[0mgetattr\u001B[0m\u001B[1;33m(\u001B[0m\u001B[0max\u001B[0m\u001B[1;33m,\u001B[0m \u001B[1;34m\"left_ax\"\u001B[0m\u001B[1;33m,\u001B[0m \u001B[0max\u001B[0m\u001B[1;33m)\u001B[0m\u001B[1;33m\u001B[0m\u001B[1;33m\u001B[0m\u001B[0m\n\u001B[0;32m     60\u001B[0m     \u001B[0mplot_obj\u001B[0m \u001B[1;33m=\u001B[0m \u001B[0mPLOT_CLASSES\u001B[0m\u001B[1;33m[\u001B[0m\u001B[0mkind\u001B[0m\u001B[1;33m]\u001B[0m\u001B[1;33m(\u001B[0m\u001B[0mdata\u001B[0m\u001B[1;33m,\u001B[0m \u001B[1;33m**\u001B[0m\u001B[0mkwargs\u001B[0m\u001B[1;33m)\u001B[0m\u001B[1;33m\u001B[0m\u001B[1;33m\u001B[0m\u001B[0m\n\u001B[1;32m---> 61\u001B[1;33m     \u001B[0mplot_obj\u001B[0m\u001B[1;33m.\u001B[0m\u001B[0mgenerate\u001B[0m\u001B[1;33m(\u001B[0m\u001B[1;33m)\u001B[0m\u001B[1;33m\u001B[0m\u001B[1;33m\u001B[0m\u001B[0m\n\u001B[0m\u001B[0;32m     62\u001B[0m     \u001B[0mplot_obj\u001B[0m\u001B[1;33m.\u001B[0m\u001B[0mdraw\u001B[0m\u001B[1;33m(\u001B[0m\u001B[1;33m)\u001B[0m\u001B[1;33m\u001B[0m\u001B[1;33m\u001B[0m\u001B[0m\n\u001B[0;32m     63\u001B[0m     \u001B[1;32mreturn\u001B[0m \u001B[0mplot_obj\u001B[0m\u001B[1;33m.\u001B[0m\u001B[0mresult\u001B[0m\u001B[1;33m\u001B[0m\u001B[1;33m\u001B[0m\u001B[0m\n",
      "\u001B[1;32me:\\phd\\code\\explaincert\\venv\\lib\\site-packages\\pandas\\plotting\\_matplotlib\\core.py\u001B[0m in \u001B[0;36mgenerate\u001B[1;34m(self)\u001B[0m\n\u001B[0;32m    278\u001B[0m         \u001B[0mself\u001B[0m\u001B[1;33m.\u001B[0m\u001B[0m_compute_plot_data\u001B[0m\u001B[1;33m(\u001B[0m\u001B[1;33m)\u001B[0m\u001B[1;33m\u001B[0m\u001B[1;33m\u001B[0m\u001B[0m\n\u001B[0;32m    279\u001B[0m         \u001B[0mself\u001B[0m\u001B[1;33m.\u001B[0m\u001B[0m_setup_subplots\u001B[0m\u001B[1;33m(\u001B[0m\u001B[1;33m)\u001B[0m\u001B[1;33m\u001B[0m\u001B[1;33m\u001B[0m\u001B[0m\n\u001B[1;32m--> 280\u001B[1;33m         \u001B[0mself\u001B[0m\u001B[1;33m.\u001B[0m\u001B[0m_make_plot\u001B[0m\u001B[1;33m(\u001B[0m\u001B[1;33m)\u001B[0m\u001B[1;33m\u001B[0m\u001B[1;33m\u001B[0m\u001B[0m\n\u001B[0m\u001B[0;32m    281\u001B[0m         \u001B[0mself\u001B[0m\u001B[1;33m.\u001B[0m\u001B[0m_add_table\u001B[0m\u001B[1;33m(\u001B[0m\u001B[1;33m)\u001B[0m\u001B[1;33m\u001B[0m\u001B[1;33m\u001B[0m\u001B[0m\n\u001B[0;32m    282\u001B[0m         \u001B[0mself\u001B[0m\u001B[1;33m.\u001B[0m\u001B[0m_make_legend\u001B[0m\u001B[1;33m(\u001B[0m\u001B[1;33m)\u001B[0m\u001B[1;33m\u001B[0m\u001B[1;33m\u001B[0m\u001B[0m\n",
      "\u001B[1;32me:\\phd\\code\\explaincert\\venv\\lib\\site-packages\\pandas\\plotting\\_matplotlib\\hist.py\u001B[0m in \u001B[0;36m_make_plot\u001B[1;34m(self)\u001B[0m\n\u001B[0;32m     81\u001B[0m                 \u001B[0mkwds\u001B[0m\u001B[1;33m[\u001B[0m\u001B[1;34m\"style\"\u001B[0m\u001B[1;33m]\u001B[0m \u001B[1;33m=\u001B[0m \u001B[0mstyle\u001B[0m\u001B[1;33m\u001B[0m\u001B[1;33m\u001B[0m\u001B[0m\n\u001B[0;32m     82\u001B[0m \u001B[1;33m\u001B[0m\u001B[0m\n\u001B[1;32m---> 83\u001B[1;33m             \u001B[0mkwds\u001B[0m \u001B[1;33m=\u001B[0m \u001B[0mself\u001B[0m\u001B[1;33m.\u001B[0m\u001B[0m_make_plot_keywords\u001B[0m\u001B[1;33m(\u001B[0m\u001B[0mkwds\u001B[0m\u001B[1;33m,\u001B[0m \u001B[0my\u001B[0m\u001B[1;33m)\u001B[0m\u001B[1;33m\u001B[0m\u001B[1;33m\u001B[0m\u001B[0m\n\u001B[0m\u001B[0;32m     84\u001B[0m \u001B[1;33m\u001B[0m\u001B[0m\n\u001B[0;32m     85\u001B[0m             \u001B[1;31m# We allow weights to be a multi-dimensional array, e.g. a (10, 2) array,\u001B[0m\u001B[1;33m\u001B[0m\u001B[1;33m\u001B[0m\u001B[1;33m\u001B[0m\u001B[0m\n",
      "\u001B[1;32me:\\phd\\code\\explaincert\\venv\\lib\\site-packages\\pandas\\plotting\\_matplotlib\\hist.py\u001B[0m in \u001B[0;36m_make_plot_keywords\u001B[1;34m(self, kwds, y)\u001B[0m\n\u001B[0;32m    169\u001B[0m     \u001B[1;32mdef\u001B[0m \u001B[0m_make_plot_keywords\u001B[0m\u001B[1;33m(\u001B[0m\u001B[0mself\u001B[0m\u001B[1;33m,\u001B[0m \u001B[0mkwds\u001B[0m\u001B[1;33m,\u001B[0m \u001B[0my\u001B[0m\u001B[1;33m)\u001B[0m\u001B[1;33m:\u001B[0m\u001B[1;33m\u001B[0m\u001B[1;33m\u001B[0m\u001B[0m\n\u001B[0;32m    170\u001B[0m         \u001B[0mkwds\u001B[0m\u001B[1;33m[\u001B[0m\u001B[1;34m\"bw_method\"\u001B[0m\u001B[1;33m]\u001B[0m \u001B[1;33m=\u001B[0m \u001B[0mself\u001B[0m\u001B[1;33m.\u001B[0m\u001B[0mbw_method\u001B[0m\u001B[1;33m\u001B[0m\u001B[1;33m\u001B[0m\u001B[0m\n\u001B[1;32m--> 171\u001B[1;33m         \u001B[0mkwds\u001B[0m\u001B[1;33m[\u001B[0m\u001B[1;34m\"ind\"\u001B[0m\u001B[1;33m]\u001B[0m \u001B[1;33m=\u001B[0m \u001B[0mself\u001B[0m\u001B[1;33m.\u001B[0m\u001B[0m_get_ind\u001B[0m\u001B[1;33m(\u001B[0m\u001B[0my\u001B[0m\u001B[1;33m)\u001B[0m\u001B[1;33m\u001B[0m\u001B[1;33m\u001B[0m\u001B[0m\n\u001B[0m\u001B[0;32m    172\u001B[0m         \u001B[1;32mreturn\u001B[0m \u001B[0mkwds\u001B[0m\u001B[1;33m\u001B[0m\u001B[1;33m\u001B[0m\u001B[0m\n\u001B[0;32m    173\u001B[0m \u001B[1;33m\u001B[0m\u001B[0m\n",
      "\u001B[1;32me:\\phd\\code\\explaincert\\venv\\lib\\site-packages\\pandas\\plotting\\_matplotlib\\hist.py\u001B[0m in \u001B[0;36m_get_ind\u001B[1;34m(self, y)\u001B[0m\n\u001B[0;32m    133\u001B[0m                 \u001B[0mnp\u001B[0m\u001B[1;33m.\u001B[0m\u001B[0mnanmin\u001B[0m\u001B[1;33m(\u001B[0m\u001B[0my\u001B[0m\u001B[1;33m)\u001B[0m \u001B[1;33m-\u001B[0m \u001B[1;36m0.5\u001B[0m \u001B[1;33m*\u001B[0m \u001B[0msample_range\u001B[0m\u001B[1;33m,\u001B[0m\u001B[1;33m\u001B[0m\u001B[1;33m\u001B[0m\u001B[0m\n\u001B[0;32m    134\u001B[0m                 \u001B[0mnp\u001B[0m\u001B[1;33m.\u001B[0m\u001B[0mnanmax\u001B[0m\u001B[1;33m(\u001B[0m\u001B[0my\u001B[0m\u001B[1;33m)\u001B[0m \u001B[1;33m+\u001B[0m \u001B[1;36m0.5\u001B[0m \u001B[1;33m*\u001B[0m \u001B[0msample_range\u001B[0m\u001B[1;33m,\u001B[0m\u001B[1;33m\u001B[0m\u001B[1;33m\u001B[0m\u001B[0m\n\u001B[1;32m--> 135\u001B[1;33m                 \u001B[1;36m1000\u001B[0m\u001B[1;33m,\u001B[0m\u001B[1;33m\u001B[0m\u001B[1;33m\u001B[0m\u001B[0m\n\u001B[0m\u001B[0;32m    136\u001B[0m             )\n\u001B[0;32m    137\u001B[0m         \u001B[1;32melif\u001B[0m \u001B[0mis_integer\u001B[0m\u001B[1;33m(\u001B[0m\u001B[0mself\u001B[0m\u001B[1;33m.\u001B[0m\u001B[0mind\u001B[0m\u001B[1;33m)\u001B[0m\u001B[1;33m:\u001B[0m\u001B[1;33m\u001B[0m\u001B[1;33m\u001B[0m\u001B[0m\n",
      "\u001B[1;32m<__array_function__ internals>\u001B[0m in \u001B[0;36mlinspace\u001B[1;34m(*args, **kwargs)\u001B[0m\n",
      "\u001B[1;32me:\\phd\\code\\explaincert\\venv\\lib\\site-packages\\numpy\\core\\function_base.py\u001B[0m in \u001B[0;36mlinspace\u001B[1;34m(start, stop, num, endpoint, retstep, dtype, axis)\u001B[0m\n\u001B[0;32m    118\u001B[0m     \u001B[1;31m# Convert float/complex array scalars to float, gh-3504\u001B[0m\u001B[1;33m\u001B[0m\u001B[1;33m\u001B[0m\u001B[1;33m\u001B[0m\u001B[0m\n\u001B[0;32m    119\u001B[0m     \u001B[1;31m# and make sure one can use variables that have an __array_interface__, gh-6634\u001B[0m\u001B[1;33m\u001B[0m\u001B[1;33m\u001B[0m\u001B[1;33m\u001B[0m\u001B[0m\n\u001B[1;32m--> 120\u001B[1;33m     \u001B[0mstart\u001B[0m \u001B[1;33m=\u001B[0m \u001B[0masanyarray\u001B[0m\u001B[1;33m(\u001B[0m\u001B[0mstart\u001B[0m\u001B[1;33m)\u001B[0m \u001B[1;33m*\u001B[0m \u001B[1;36m1.0\u001B[0m\u001B[1;33m\u001B[0m\u001B[1;33m\u001B[0m\u001B[0m\n\u001B[0m\u001B[0;32m    121\u001B[0m     \u001B[0mstop\u001B[0m  \u001B[1;33m=\u001B[0m \u001B[0masanyarray\u001B[0m\u001B[1;33m(\u001B[0m\u001B[0mstop\u001B[0m\u001B[1;33m)\u001B[0m  \u001B[1;33m*\u001B[0m \u001B[1;36m1.0\u001B[0m\u001B[1;33m\u001B[0m\u001B[1;33m\u001B[0m\u001B[0m\n\u001B[0;32m    122\u001B[0m \u001B[1;33m\u001B[0m\u001B[0m\n",
      "\u001B[1;31mUFuncTypeError\u001B[0m: ufunc 'multiply' cannot use operands with types dtype('<M8[ns]') and dtype('float64')"
     ]
    },
    {
     "data": {
      "text/plain": "<Figure size 432x288 with 9 Axes>",
      "image/png": "[encoded data removed]"
     },
     "metadata": {
      "needs_background": "light"
     },
     "output_type": "display_data"
    }
   ],
   "source": [
    "data.plot(kind='density', subplots=True, layout=(3,3), sharex=False)\n",
    "pyplot.show()\n",
    "\n"
   ],
   "metadata": {
    "collapsed": false,
    "pycharm": {
     "name": "#%%\n"
    }
   }
  },
  {
   "cell_type": "code",
   "execution_count": 26,
   "outputs": [],
   "source": [
    "df1 = data.groupby([\"user\",'activity'],as_index=False)[['pc']].count()\n"
   ],
   "metadata": {
    "collapsed": false,
    "pycharm": {
     "name": "#%%\n"
    }
   }
  },
  {
   "cell_type": "code",
   "execution_count": 27,
   "outputs": [
    {
     "data": {
      "text/plain": "<bound method NDFrame.describe of          user activity   pc\n0     AAB0162   Logoff  356\n1     AAB0162    Logon  355\n2     AAB0398   Logoff  356\n3     AAB0398    Logon  356\n4     AAC0610   Logoff  387\n...       ...      ...  ...\n7995  ZWS3625    Logon  356\n7996  ZXM3086   Logoff  356\n7997  ZXM3086    Logon  356\n7998  ZZO2997   Logoff  356\n7999  ZZO2997    Logon  356\n\n[8000 rows x 3 columns]>"
     },
     "execution_count": 27,
     "metadata": {},
     "output_type": "execute_result"
    }
   ],
   "source": [
    "df1.describe\n"
   ],
   "metadata": {
    "collapsed": false,
    "pycharm": {
     "name": "#%%\n"
    }
   }
  },
  {
   "cell_type": "code",
   "execution_count": 28,
   "outputs": [
    {
     "data": {
      "text/plain": "user  0       AAB0162\n      1       AAB0162\n      2       AAB0398\n      3       AAB0398\n      4       AAC0610\n               ...   \npc    7995        356\n      7996        356\n      7997        356\n      7998        356\n      7999        356\nLength: 24000, dtype: object"
     },
     "execution_count": 28,
     "metadata": {},
     "output_type": "execute_result"
    }
   ],
   "source": [
    "data.groupby([\"user\",'activity'],as_index=False)[['pc']].count().unstack()\n",
    "\n"
   ],
   "metadata": {
    "collapsed": false,
    "pycharm": {
     "name": "#%%\n"
    }
   }
  },
  {
   "cell_type": "code",
   "execution_count": 31,
   "outputs": [],
   "source": [
    "df2 = df1.unstack(level=-2)"
   ],
   "metadata": {
    "collapsed": false,
    "pycharm": {
     "name": "#%%\n"
    }
   }
  },
  {
   "cell_type": "code",
   "execution_count": 32,
   "outputs": [
    {
     "data": {
      "text/plain": "user  0     AAB0162\n      1     AAB0162\n      2     AAB0398\n      3     AAB0398\n      4     AAC0610\n      5     AAC0610\n      6     AAC0668\n      7     AAC0668\n      8     AAC3270\n      9     AAC3270\n      10    AAD2188\n      11    AAD2188\n      12    AAD3030\n      13    AAD3030\n      14    AAF0819\n      15    AAF0819\n      16    AAF3937\n      17    AAF3937\n      18    AAG1447\n      19    AAG1447\ndtype: object"
     },
     "execution_count": 32,
     "metadata": {},
     "output_type": "execute_result"
    }
   ],
   "source": [
    "df2.head(20)\n"
   ],
   "metadata": {
    "collapsed": false,
    "pycharm": {
     "name": "#%%\n"
    }
   }
  },
  {
   "cell_type": "code",
   "execution_count": 34,
   "outputs": [
    {
     "data": {
      "text/plain": "<bound method NDFrame.describe of          user activity   pc\n0     AAB0162   Logoff  356\n1     AAB0162    Logon  355\n2     AAB0398   Logoff  356\n3     AAB0398    Logon  356\n4     AAC0610   Logoff  387\n...       ...      ...  ...\n7995  ZWS3625    Logon  356\n7996  ZXM3086   Logoff  356\n7997  ZXM3086    Logon  356\n7998  ZZO2997   Logoff  356\n7999  ZZO2997    Logon  356\n\n[8000 rows x 3 columns]>"
     },
     "execution_count": 34,
     "metadata": {},
     "output_type": "execute_result"
    }
   ],
   "source": [
    "df1.describe\n",
    "\n"
   ],
   "metadata": {
    "collapsed": false,
    "pycharm": {
     "name": "#%%\n"
    }
   }
  }
 ],
 "metadata": {
  "kernelspec": {
   "display_name": "Python 3",
   "language": "python",
   "name": "python3"
  },
  "language_info": {
   "codemirror_mode": {
    "name": "ipython",
    "version": 3
   },
   "file_extension": ".py",
   "mimetype": "text/x-python",
   "name": "python",
   "nbconvert_exporter": "python",
   "pygments_lexer": "ipython3",
   "version": "3.7.7"
  }
 },
 "nbformat": 4,
 "nbformat_minor": 4
}